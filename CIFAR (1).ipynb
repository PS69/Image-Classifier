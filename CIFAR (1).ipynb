{
 "cells": [
  {
   "cell_type": "code",
   "execution_count": 1,
   "id": "f5939e5c",
   "metadata": {},
   "outputs": [],
   "source": [
    "from keras.datasets import cifar10\n",
    "import numpy as np"
   ]
  },
  {
   "cell_type": "code",
   "execution_count": 2,
   "id": "ed757030",
   "metadata": {},
   "outputs": [],
   "source": [
    "(x_train, y_train), (x_test, y_test) = cifar10.load_data()"
   ]
  },
  {
   "cell_type": "code",
   "execution_count": 3,
   "id": "31a9c195",
   "metadata": {},
   "outputs": [
    {
     "data": {
      "image/png": "[encoded data removed]",
      "text/plain": [
       "<Figure size 432x288 with 1 Axes>"
      ]
     },
     "metadata": {
      "needs_background": "light"
     },
     "output_type": "display_data"
    }
   ],
   "source": [
    "import matplotlib.pyplot as plt\n",
    "plt.imshow(x_train[30])\n",
    "plt.show()"
   ]
  },
  {
   "cell_type": "code",
   "execution_count": 4,
   "id": "d278e2e0",
   "metadata": {},
   "outputs": [],
   "source": [
    "from keras.utils import to_categorical\n",
    "y_train=to_categorical(y_train)\n",
    "y_test=to_categorical(y_test)"
   ]
  },
  {
   "cell_type": "code",
   "execution_count": 5,
   "id": "e7e4b133",
   "metadata": {},
   "outputs": [
    {
     "data": {
      "text/plain": [
       "((50000, 32, 32, 3), (10000, 32, 32, 3), (50000, 10), (10000, 10))"
      ]
     },
     "execution_count": 5,
     "metadata": {},
     "output_type": "execute_result"
    }
   ],
   "source": [
    "x_train=x_train.reshape(-1,32,32,3)\n",
    "x_test=x_test.reshape(-1,32,32,3)\n",
    "\n",
    "x_train.shape,x_test.shape,y_train.shape,y_test.shape"
   ]
  },
  {
   "cell_type": "code",
   "execution_count": 6,
   "id": "b14f9fe4",
   "metadata": {},
   "outputs": [],
   "source": [
    "x_train=x_train/255\n",
    "x_test=x_test/255"
   ]
  },
  {
   "cell_type": "code",
   "execution_count": 7,
   "id": "49bed862",
   "metadata": {},
   "outputs": [],
   "source": [
    "from keras.models import Model\n",
    "from keras.layers import Input,Conv2D,MaxPooling2D,Flatten,Dense,Dropout"
   ]
  },
  {
   "cell_type": "code",
   "execution_count": 8,
   "id": "5b353a83",
   "metadata": {},
   "outputs": [],
   "source": [
    "inputs=Input(shape=(32,32,3))\n",
    "\n",
    "c1=Conv2D(64,(3,3),padding=\"same\",activation=\"relu\")(inputs)\n",
    "m1=MaxPooling2D(padding=\"same\")(c1)\n",
    "\n",
    "drop1=Dropout(0.3)(m1)\n",
    "\n",
    "c2=Conv2D(64,(3,3),padding=\"same\",activation=\"relu\")(drop1)\n",
    "m2=MaxPooling2D(padding=\"same\")(c2)\n",
    "\n",
    "drop2=Dropout(0.3)(m2)\n",
    "\n",
    "c3=Conv2D(64,(5,5),padding=\"same\",activation=\"relu\")(drop2)\n",
    "m3=MaxPooling2D(padding=\"same\")(c3)\n",
    "\n",
    "\n",
    "drop2=Dropout(0.3)(m3)\n",
    "\n",
    "conv_out=Flatten()(drop2)\n",
    "\n",
    "d1=Dense(512,activation=\"relu\")(conv_out)\n",
    "\n",
    "out=Dense(10,activation=\"softmax\")(d1)"
   ]
  },
  {
   "cell_type": "code",
   "execution_count": 9,
   "id": "da61c8a2",
   "metadata": {},
   "outputs": [],
   "source": [
    "model=Model(inputs=inputs,outputs=out)\n",
    "model.compile(optimizer=\"adam\",loss=\"categorical_crossentropy\",metrics=[\"accuracy\"])"
   ]
  },
  {
   "cell_type": "code",
   "execution_count": 10,
   "id": "ab0be4aa",
   "metadata": {},
   "outputs": [
    {
     "name": "stdout",
     "output_type": "stream",
     "text": [
      "Model: \"model\"\n",
      "_________________________________________________________________\n",
      " Layer (type)                Output Shape              Param #   \n",
      "=================================================================\n",
      " input_1 (InputLayer)        [(None, 32, 32, 3)]       0         \n",
      "                                                                 \n",
      " conv2d (Conv2D)             (None, 32, 32, 64)        1792      \n",
      "                                                                 \n",
      " max_pooling2d (MaxPooling2D  (None, 16, 16, 64)       0         \n",
      " )                                                               \n",
      "                                                                 \n",
      " dropout (Dropout)           (None, 16, 16, 64)        0         \n",
      "                                                                 \n",
      " conv2d_1 (Conv2D)           (None, 16, 16, 64)        36928     \n",
      "                                                                 \n",
      " max_pooling2d_1 (MaxPooling  (None, 8, 8, 64)         0         \n",
      " 2D)                                                             \n",
      "                                                                 \n",
      " dropout_1 (Dropout)         (None, 8, 8, 64)          0         \n",
      "                                                                 \n",
      " conv2d_2 (Conv2D)           (None, 8, 8, 64)          102464    \n",
      "                                                                 \n",
      " max_pooling2d_2 (MaxPooling  (None, 4, 4, 64)         0         \n",
      " 2D)                                                             \n",
      "                                                                 \n",
      " dropout_2 (Dropout)         (None, 4, 4, 64)          0         \n",
      "                                                                 \n",
      " flatten (Flatten)           (None, 1024)              0         \n",
      "                                                                 \n",
      " dense (Dense)               (None, 512)               524800    \n",
      "                                                                 \n",
      " dense_1 (Dense)             (None, 10)                5130      \n",
      "                                                                 \n",
      "=================================================================\n",
      "Total params: 671,114\n",
      "Trainable params: 671,114\n",
      "Non-trainable params: 0\n",
      "_________________________________________________________________\n"
     ]
    }
   ],
   "source": [
    "model.summary()"
   ]
  },
  {
   "cell_type": "code",
   "execution_count": 11,
   "id": "cc27f95f",
   "metadata": {
    "scrolled": true
   },
   "outputs": [
    {
     "name": "stdout",
     "output_type": "stream",
     "text": [
      "Epoch 1/20\n",
      "782/782 [==============================] - 143s 181ms/step - loss: 1.5499 - accuracy: 0.4358 - val_loss: 1.2044 - val_accuracy: 0.5758\n",
      "Epoch 2/20\n",
      "782/782 [==============================] - 145s 185ms/step - loss: 1.1621 - accuracy: 0.5833 - val_loss: 0.9755 - val_accuracy: 0.6641\n",
      "Epoch 3/20\n",
      "782/782 [==============================] - 140s 178ms/step - loss: 1.0077 - accuracy: 0.6401 - val_loss: 0.9540 - val_accuracy: 0.6681\n",
      "Epoch 4/20\n",
      "782/782 [==============================] - 140s 178ms/step - loss: 0.9141 - accuracy: 0.6758 - val_loss: 0.8418 - val_accuracy: 0.7054\n",
      "Epoch 5/20\n",
      "782/782 [==============================] - 139s 178ms/step - loss: 0.8510 - accuracy: 0.7001 - val_loss: 0.8062 - val_accuracy: 0.7135\n",
      "Epoch 6/20\n",
      "782/782 [==============================] - 118s 151ms/step - loss: 0.7986 - accuracy: 0.7172 - val_loss: 0.7481 - val_accuracy: 0.7421\n",
      "Epoch 7/20\n",
      "782/782 [==============================] - 133s 170ms/step - loss: 0.7459 - accuracy: 0.7356 - val_loss: 0.7117 - val_accuracy: 0.7488\n",
      "Epoch 8/20\n",
      "782/782 [==============================] - 79s 101ms/step - loss: 0.7146 - accuracy: 0.7479 - val_loss: 0.7386 - val_accuracy: 0.7445\n",
      "Epoch 9/20\n",
      "782/782 [==============================] - 82s 105ms/step - loss: 0.6771 - accuracy: 0.7597 - val_loss: 0.6913 - val_accuracy: 0.7587\n",
      "Epoch 10/20\n",
      "782/782 [==============================] - 82s 105ms/step - loss: 0.6464 - accuracy: 0.7704 - val_loss: 0.6752 - val_accuracy: 0.7643\n",
      "Epoch 11/20\n",
      "782/782 [==============================] - 83s 106ms/step - loss: 0.6224 - accuracy: 0.7793 - val_loss: 0.6717 - val_accuracy: 0.7693\n",
      "Epoch 12/20\n",
      "782/782 [==============================] - 83s 106ms/step - loss: 0.6001 - accuracy: 0.7876 - val_loss: 0.6790 - val_accuracy: 0.7659\n",
      "Epoch 13/20\n",
      "782/782 [==============================] - 83s 106ms/step - loss: 0.5778 - accuracy: 0.7954 - val_loss: 0.6632 - val_accuracy: 0.7734\n",
      "Epoch 14/20\n",
      "782/782 [==============================] - 83s 106ms/step - loss: 0.5594 - accuracy: 0.8014 - val_loss: 0.6553 - val_accuracy: 0.7731\n",
      "Epoch 15/20\n",
      "782/782 [==============================] - 83s 106ms/step - loss: 0.5427 - accuracy: 0.8077 - val_loss: 0.6534 - val_accuracy: 0.7727\n",
      "Epoch 16/20\n",
      "782/782 [==============================] - 83s 107ms/step - loss: 0.5222 - accuracy: 0.8137 - val_loss: 0.6770 - val_accuracy: 0.7711\n",
      "Epoch 17/20\n",
      "782/782 [==============================] - 84s 108ms/step - loss: 0.5211 - accuracy: 0.8159 - val_loss: 0.6661 - val_accuracy: 0.7774\n",
      "Epoch 18/20\n",
      "782/782 [==============================] - 85s 109ms/step - loss: 0.4971 - accuracy: 0.8244 - val_loss: 0.6691 - val_accuracy: 0.7738\n",
      "Epoch 19/20\n",
      "782/782 [==============================] - 85s 109ms/step - loss: 0.4859 - accuracy: 0.8266 - val_loss: 0.6646 - val_accuracy: 0.7773\n",
      "Epoch 20/20\n",
      "782/782 [==============================] - 85s 109ms/step - loss: 0.4732 - accuracy: 0.8319 - val_loss: 0.6811 - val_accuracy: 0.7694\n"
     ]
    },
    {
     "data": {
      "text/plain": [
       "<keras.callbacks.History at 0x2b0e9b66ca0>"
      ]
     },
     "execution_count": 11,
     "metadata": {},
     "output_type": "execute_result"
    }
   ],
   "source": [
    "model.fit(x_train,y_train,batch_size=64,epochs=20,validation_data=(x_test,y_test))"
   ]
  },
  {
   "cell_type": "code",
   "execution_count": 12,
   "id": "54bf94a7",
   "metadata": {},
   "outputs": [
    {
     "name": "stdout",
     "output_type": "stream",
     "text": [
      "1563/1563 [==============================] - 20s 13ms/step - loss: 0.2497 - accuracy: 0.9256\n",
      "313/313 [==============================] - 4s 13ms/step - loss: 0.6811 - accuracy: 0.7694\n"
     ]
    },
    {
     "data": {
      "text/plain": [
       "([0.2497001588344574, 0.925599992275238],\n",
       " [0.6811028718948364, 0.7694000005722046])"
      ]
     },
     "execution_count": 12,
     "metadata": {},
     "output_type": "execute_result"
    }
   ],
   "source": [
    "model.evaluate(x_train,y_train),model.evaluate(x_test,y_test)"
   ]
  }
 ],
 "metadata": {
  "kernelspec": {
   "display_name": "Python 3 (ipykernel)",
   "language": "python",
   "name": "python3"
  },
  "language_info": {
   "codemirror_mode": {
    "name": "ipython",
    "version": 3
   },
   "file_extension": ".py",
   "mimetype": "text/x-python",
   "name": "python",
   "nbconvert_exporter": "python",
   "pygments_lexer": "ipython3",
   "version": "3.9.12"
  }
 },
 "nbformat": 4,
 "nbformat_minor": 5
}
